{
 "metadata": {
  "language_info": {
   "codemirror_mode": {
    "name": "ipython",
    "version": 3
   },
   "file_extension": ".py",
   "mimetype": "text/x-python",
   "name": "python",
   "nbconvert_exporter": "python",
   "pygments_lexer": "ipython3",
   "version": "3.8.3-final"
  },
  "orig_nbformat": 2,
  "kernelspec": {
   "name": "python3",
   "display_name": "Python 3.8.3 32-bit",
   "metadata": {
    "interpreter": {
     "hash": "e7e3576d3e896f0b33ff67bae66bb1d87a15dda410688056537dc64e733eedb4"
    }
   }
  }
 },
 "nbformat": 4,
 "nbformat_minor": 2,
 "cells": [
  {
   "cell_type": "code",
   "execution_count": 45,
   "metadata": {},
   "outputs": [],
   "source": [
    "import pandas as pd"
   ]
  },
  {
   "cell_type": "code",
   "execution_count": 46,
   "metadata": {},
   "outputs": [],
   "source": [
    "df = pd.DataFrame()  # data frame vazio a ser populado"
   ]
  },
  {
   "cell_type": "code",
   "execution_count": 47,
   "metadata": {},
   "outputs": [],
   "source": [
    "def read_files(path, name_file, year_date, type_file):\n",
    "    #path to file\n",
    "    _file = f'{path}{name_file}{year_date}.{type_file}'\n",
    "    # lista com os campos que queremos pegar\n",
    "    colspecs = [\n",
    "        (2,10),\n",
    "        (10,12),\n",
    "        (12,24),\n",
    "        (27,39),\n",
    "        (56,69),\n",
    "        (69,82),\n",
    "        (82,95),\n",
    "        (108,121),\n",
    "        (152,170),\n",
    "        (170,188)\n",
    "        ]\n",
    "    # lista de nomes dos campos que estamos criando/pegando\n",
    "    names = ['data_pregao', 'codbdi', 'sigla_acao', 'nomes_acao', 'preco_abertura', 'preco_maximo',        'preco_minimo', 'preco_fechamento', 'qtd_negocios', 'volume_negocios' ]\n",
    "\n",
    "    df = pd.read_fwf(_file, colspecs=colspecs, names=names, skiprows=1)  # skip primeira linha\n",
    "\n",
    "    return df"
   ]
  },
  {
   "cell_type": "code",
   "execution_count": 48,
   "metadata": {},
   "outputs": [
    {
     "output_type": "execute_result",
     "data": {
      "text/plain": [
       "Empty DataFrame\n",
       "Columns: []\n",
       "Index: []"
      ],
      "text/html": "<div>\n<style scoped>\n    .dataframe tbody tr th:only-of-type {\n        vertical-align: middle;\n    }\n\n    .dataframe tbody tr th {\n        vertical-align: top;\n    }\n\n    .dataframe thead th {\n        text-align: right;\n    }\n</style>\n<table border=\"1\" class=\"dataframe\">\n  <thead>\n    <tr style=\"text-align: right;\">\n      <th></th>\n    </tr>\n  </thead>\n  <tbody>\n  </tbody>\n</table>\n</div>"
     },
     "metadata": {},
     "execution_count": 48
    }
   ],
   "source": [
    "df.head()  # vemos que temos campos que não estão bem formatados (como a data, por exemplo)"
   ]
  },
  {
   "cell_type": "code",
   "execution_count": 49,
   "metadata": {},
   "outputs": [],
   "source": [
    "# filtrar ações\n",
    "def filter_stocks(df):\n",
    "    df = df[df['codbdi']==2]\n",
    "    df = df.drop(['codbdi'], 1)  # não precisamos mais do campo codbdi, na coluna 1\n",
    "    \n",
    "    return df"
   ]
  },
  {
   "cell_type": "code",
   "execution_count": 50,
   "metadata": {},
   "outputs": [],
   "source": [
    "# ajuste do campo de data (formatação)\n",
    "def parse_date(df):\n",
    "    df['data_pregao'] = pd.to_datetime(df['data_pregao'], format='%Y%m%d')\n",
    "    \n",
    "    return df"
   ]
  },
  {
   "cell_type": "code",
   "execution_count": 51,
   "metadata": {},
   "outputs": [],
   "source": [
    "# ajuste dos campos numéricos ('/100' para duas casas decimais e para 'float')\n",
    "def parse_values(df):\n",
    "    df['preco_abertura'] = (df['preco_abertura']/100).astype(float)\n",
    "    df['preco_maximo'] = (df['preco_maximo']/100).astype(float)\n",
    "    df['preco_minimo'] = (df['preco_minimo']/100).astype(float)\n",
    "    df['preco_fechamento'] = (df['preco_fechamento']/100).astype(float)\n",
    "    df['qtd_negocios'] = (df['qtd_negocios']).astype(int) #conversão para int\n",
    "    df['volume_negocios'] = (df['volume_negocios']).astype(int) #conversão para int\n",
    "    \n",
    "    return df"
   ]
  },
  {
   "cell_type": "code",
   "execution_count": 52,
   "metadata": {},
   "outputs": [],
   "source": [
    "# juntando os arquivos\n",
    "\n",
    "def concat_files(path, name_file, year_date, type_file, final_file):\n",
    "    # enumerate pega a lista e coloca o indice e o campo da informação (i e y, respectivamente)\n",
    "    for i, y in enumerate(year_date):\n",
    "        df = read_files(path, name_file, y, type_file)\n",
    "        df = filter_stocks(df)\n",
    "        df = parse_date(df)\n",
    "        df = parse_values(df)\n",
    "\n",
    "        if i==0:\n",
    "            df_final = df\n",
    "        else:\n",
    "            df_final = pd.concat([df_final, df])\n",
    "    \n",
    "    df_final.to_csv(f'{path}/{final_file}', index=False)"
   ]
  },
  {
   "cell_type": "code",
   "execution_count": 53,
   "metadata": {},
   "outputs": [],
   "source": [
    "#executando o programa de ETL ('Extract, Transform, and Load')\n",
    "\n",
    "year_date = ['2010', '2011', '2012', '2013', '2014', '2015', '2016', '2017', '2018', '2019', '2020', '2021']\n",
    "\n",
    "path = f'./cotacoes/'\n",
    "\n",
    "name_file='COTAHIST_A'\n",
    "\n",
    "type_file = 'txt'\n",
    "\n",
    "final_file = 'all_bovespa.csv'\n",
    "\n",
    "concat_files(path, name_file, year_date, type_file, final_file)"
   ]
  }
 ]
}
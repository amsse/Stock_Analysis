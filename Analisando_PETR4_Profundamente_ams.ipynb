{
 "cells": [
  {
   "cell_type": "markdown",
   "metadata": {},
   "source": [
    "# ANÁLISE DE AÇÕES PREFERENCIAIS DA PETROBRAS (PETR4)\n",
    "\n",
    "## INDEX:\n",
    "\n",
    "### 1) Introdução (Definição do ativo e do período)\n",
    "\n",
    "### 2) Retornos (Simples, Logarítimicos e de Índices)\n",
    "\n",
    "### 3) Riscos\n",
    "\n",
    "### 4) Diversificações\n",
    "\n",
    "### 5) Correlações\n",
    "\n",
    "### 6) Markowitz\n",
    "\n",
    "### 7) Beta e Sharpe\n",
    "\n",
    "### 8) Precificação de CALLs via Black-Scholes"
   ]
  },
  {
   "cell_type": "code",
   "execution_count": 5,
   "metadata": {},
   "outputs": [],
   "source": [
    "import jupyter_core  # opcional\n",
    "import notebook  # opcional\n",
    "import numpy as np\n",
    "import pandas as pd\n",
    "from pandas_datareader import data as wb\n",
    "import yfinance as yfin\n",
    "yfin.pdr_override()\n",
    "import matplotlib.pyplot as plt\n",
    "from scipy.stats import norm\n"
   ]
  },
  {
   "cell_type": "markdown",
   "metadata": {},
   "source": [
    "# Obs.:\n",
    "\n",
    "## Podemos plotar gráficos line charts melhores using Plotly em vez de matplotlib.\n",
    "\n",
    "## Exemplo:"
   ]
  },
  {
   "cell_type": "code",
   "execution_count": 6,
   "metadata": {},
   "outputs": [],
   "source": [
    "# import plotly\n",
    "\n",
    "# pd.options.plotting.backend = \"plotly\"  # comunica ao pandas que os plots devem ser feitos via plotly\n",
    "\n",
    "\n",
    "\n",
    "# dados_plt = (dados / dados.iloc[0] * 100) # aplicação da fórmula\n",
    "# dados_plt.plot(kind='line')"
   ]
  },
  {
   "cell_type": "markdown",
   "metadata": {},
   "source": [
    "# 1\n",
    "\n",
    "## INTRO\n",
    "\n",
    "### Definindo o ativo e delimitando períodos\n",
    "\n",
    "#### Vamos iniciar definindo o ativo ('acao') que vamos analisar e o período ('start=' e 'end=') em que o vamos analisar."
   ]
  },
  {
   "cell_type": "code",
   "execution_count": 7,
   "metadata": {},
   "outputs": [
    {
     "name": "stdout",
     "output_type": "stream",
     "text": [
      "[*********************100%***********************]  1 of 1 completed\n"
     ]
    }
   ],
   "source": [
    "# definir nossa acao (PETR4) e o período de análise:\n",
    "acao = \"PETR4.SA\"\n",
    "acao = wb.get_data_yahoo(acao, start=\"2011-1-1\")"
   ]
  },
  {
   "cell_type": "code",
   "execution_count": 8,
   "metadata": {},
   "outputs": [
    {
     "data": {
      "text/html": [
       "<div>\n",
       "<style scoped>\n",
       "    .dataframe tbody tr th:only-of-type {\n",
       "        vertical-align: middle;\n",
       "    }\n",
       "\n",
       "    .dataframe tbody tr th {\n",
       "        vertical-align: top;\n",
       "    }\n",
       "\n",
       "    .dataframe thead th {\n",
       "        text-align: right;\n",
       "    }\n",
       "</style>\n",
       "<table border=\"1\" class=\"dataframe\">\n",
       "  <thead>\n",
       "    <tr style=\"text-align: right;\">\n",
       "      <th></th>\n",
       "      <th>Open</th>\n",
       "      <th>High</th>\n",
       "      <th>Low</th>\n",
       "      <th>Close</th>\n",
       "      <th>Adj Close</th>\n",
       "      <th>Volume</th>\n",
       "    </tr>\n",
       "    <tr>\n",
       "      <th>Date</th>\n",
       "      <th></th>\n",
       "      <th></th>\n",
       "      <th></th>\n",
       "      <th></th>\n",
       "      <th></th>\n",
       "      <th></th>\n",
       "    </tr>\n",
       "  </thead>\n",
       "  <tbody>\n",
       "    <tr>\n",
       "      <th>2023-04-04</th>\n",
       "      <td>24.629999</td>\n",
       "      <td>24.760000</td>\n",
       "      <td>24.100000</td>\n",
       "      <td>24.27</td>\n",
       "      <td>24.27</td>\n",
       "      <td>57505700</td>\n",
       "    </tr>\n",
       "    <tr>\n",
       "      <th>2023-04-05</th>\n",
       "      <td>24.190001</td>\n",
       "      <td>24.530001</td>\n",
       "      <td>23.270000</td>\n",
       "      <td>24.35</td>\n",
       "      <td>24.35</td>\n",
       "      <td>93626400</td>\n",
       "    </tr>\n",
       "    <tr>\n",
       "      <th>2023-04-06</th>\n",
       "      <td>24.340000</td>\n",
       "      <td>24.420000</td>\n",
       "      <td>23.950001</td>\n",
       "      <td>24.00</td>\n",
       "      <td>24.00</td>\n",
       "      <td>29565400</td>\n",
       "    </tr>\n",
       "    <tr>\n",
       "      <th>2023-04-10</th>\n",
       "      <td>24.030001</td>\n",
       "      <td>24.660000</td>\n",
       "      <td>24.030001</td>\n",
       "      <td>24.51</td>\n",
       "      <td>24.51</td>\n",
       "      <td>41455900</td>\n",
       "    </tr>\n",
       "    <tr>\n",
       "      <th>2023-04-11</th>\n",
       "      <td>24.700001</td>\n",
       "      <td>25.530001</td>\n",
       "      <td>24.629999</td>\n",
       "      <td>25.50</td>\n",
       "      <td>25.50</td>\n",
       "      <td>54622900</td>\n",
       "    </tr>\n",
       "  </tbody>\n",
       "</table>\n",
       "</div>"
      ],
      "text/plain": [
       "                 Open       High        Low  Close  Adj Close    Volume\n",
       "Date                                                                   \n",
       "2023-04-04  24.629999  24.760000  24.100000  24.27      24.27  57505700\n",
       "2023-04-05  24.190001  24.530001  23.270000  24.35      24.35  93626400\n",
       "2023-04-06  24.340000  24.420000  23.950001  24.00      24.00  29565400\n",
       "2023-04-10  24.030001  24.660000  24.030001  24.51      24.51  41455900\n",
       "2023-04-11  24.700001  25.530001  24.629999  25.50      25.50  54622900"
      ]
     },
     "execution_count": 8,
     "metadata": {},
     "output_type": "execute_result"
    }
   ],
   "source": [
    "# Visualizar o dataset e verificar se estamos up-to-date:\n",
    "acao.tail()"
   ]
  },
  {
   "cell_type": "markdown",
   "metadata": {},
   "source": [
    "# 2\n",
    "\n",
    "## Retornos (Simples, Logarítimicos e de Índices)\n",
    "\n",
    "### F O R M U L A\n",
    "\n",
    "simple rate of return = (p1/ p0) -1\n",
    "\n",
    "where: p0 = beginning stock price, p1 = ending stock price"
   ]
  },
  {
   "cell_type": "code",
   "execution_count": 9,
   "metadata": {},
   "outputs": [
    {
     "name": "stdout",
     "output_type": "stream",
     "text": [
      "Date\n",
      "2011-01-03         NaN\n",
      "2011-01-04   -0.003704\n",
      "2011-01-05    0.011896\n",
      "2011-01-06   -0.004041\n",
      "2011-01-07   -0.014017\n",
      "                ...   \n",
      "2023-04-04   -0.008983\n",
      "2023-04-05    0.003296\n",
      "2023-04-06   -0.014374\n",
      "2023-04-10    0.021250\n",
      "2023-04-11    0.040392\n",
      "Name: simple_return, Length: 3047, dtype: float64\n"
     ]
    }
   ],
   "source": [
    "acao['simple_return'] = (acao['Adj Close'] / acao['Adj Close'].shift(1)) -1\n",
    "# 'shift(1)' indica o período de tempo - no caso, UM dia útil antes.\n",
    "print(acao['simple_return'])"
   ]
  },
  {
   "cell_type": "code",
   "execution_count": 10,
   "metadata": {},
   "outputs": [
    {
     "data": {
      "image/png": "[encoded data removed]",
      "text/plain": [
       "<Figure size 800x500 with 1 Axes>"
      ]
     },
     "metadata": {},
     "output_type": "display_data"
    }
   ],
   "source": [
    "acao['simple_return'].plot(figsize=(8, 5))\n",
    "plt.show() # not necessary on vscode\n",
    "# Os mergulhos no gráfico são os pontos de perda.\n",
    "# No começo de 2020 tivemos vários circuit breaks em razão da COVID-19 impactar os mercados."
   ]
  },
  {
   "cell_type": "markdown",
   "metadata": {},
   "source": [
    "____________\n",
    "\n",
    "## 2.1\n",
    "\n",
    "### Cálculo do Average Return (Mean Return), ou Retorno Médio:"
   ]
  },
  {
   "cell_type": "code",
   "execution_count": 11,
   "metadata": {},
   "outputs": [
    {
     "data": {
      "text/plain": [
       "0.0007426176650470911"
      ]
     },
     "execution_count": 11,
     "metadata": {},
     "output_type": "execute_result"
    }
   ],
   "source": [
    "# Daily (Diário):\n",
    "avg_returns_d = acao['simple_return'].mean()\n",
    "# este valor só tem utilidade para calcular o anual, não merecendo atenção isoladamente.\n",
    "avg_returns_d"
   ]
  },
  {
   "cell_type": "code",
   "execution_count": 12,
   "metadata": {},
   "outputs": [
    {
     "data": {
      "text/plain": [
       "0.18639703392681986"
      ]
     },
     "execution_count": 12,
     "metadata": {},
     "output_type": "execute_result"
    }
   ],
   "source": [
    "# Annual (Anual):\n",
    "avg_returns_a = acao['simple_return'].mean() * 251\n",
    "# 251 representa um número aproximado de dias úteis no ano (em SP).\n",
    "avg_returns_a"
   ]
  },
  {
   "cell_type": "code",
   "execution_count": 13,
   "metadata": {},
   "outputs": [
    {
     "name": "stdout",
     "output_type": "stream",
     "text": [
      "18.64 %\n"
     ]
    }
   ],
   "source": [
    "# conversão para percentual:\n",
    "print(str(round(avg_returns_a, 5) * 100) + ' %')\n",
    "# multiplica por 100, convert para string, e acrescenta o sinal percentual ao final."
   ]
  },
  {
   "cell_type": "markdown",
   "metadata": {},
   "source": [
    "_________\n",
    "\n",
    "## 2.2\n",
    "\n",
    "### Cálculo do Log Return, ou Retorno Logarítmico:\n"
   ]
  },
  {
   "cell_type": "markdown",
   "metadata": {},
   "source": [
    "        F O R M U L A\n",
    "\n",
    "### LOGARITHMIC RATE OF RETURN = ln(pT/pT-1)\n",
    "\n",
    "pT = price in time \"t\"\n",
    "\n",
    "pT-1 = price in the day before\n",
    "\n",
    "ln = logarthim"
   ]
  },
  {
   "cell_type": "code",
   "execution_count": 14,
   "metadata": {},
   "outputs": [
    {
     "name": "stdout",
     "output_type": "stream",
     "text": [
      "Date\n",
      "2011-01-03         NaN\n",
      "2011-01-04   -0.003711\n",
      "2011-01-05    0.011826\n",
      "2011-01-06   -0.004049\n",
      "2011-01-07   -0.014116\n",
      "                ...   \n",
      "2023-04-04   -0.009024\n",
      "2023-04-05    0.003291\n",
      "2023-04-06   -0.014478\n",
      "2023-04-10    0.021027\n",
      "2023-04-11    0.039597\n",
      "Name: log_return, Length: 3047, dtype: float64\n"
     ]
    }
   ],
   "source": [
    "acao['log_return'] = np.log(acao['Adj Close'] / acao['Adj Close'].shift(1))\n",
    "# usamos a função 'np.log' do numpy para o cálculo logarítimico.\n",
    "# 'shift(1)' indica o período de tempo - no caso, UM dia útil antes.\n",
    "print(acao['log_return'])  # checar se o array foi populado"
   ]
  },
  {
   "cell_type": "code",
   "execution_count": 15,
   "metadata": {},
   "outputs": [
    {
     "data": {
      "image/png": "[encoded data removed]",
      "text/plain": [
       "<Figure size 800x500 with 1 Axes>"
      ]
     },
     "metadata": {},
     "output_type": "display_data"
    }
   ],
   "source": [
    "acao['log_return'].plot(figsize=(8, 5))\n",
    "plt.show() # not necessary on vscode\n",
    "# Os mergulhos no gráfico representam os pontos de perda.\n",
    "# No começo de 2020 tivemos vários circuit breaks em razão da COVID-19 impactar os mercados."
   ]
  },
  {
   "cell_type": "code",
   "execution_count": 16,
   "metadata": {},
   "outputs": [
    {
     "data": {
      "text/plain": [
       "0.0002978011407205913"
      ]
     },
     "execution_count": 16,
     "metadata": {},
     "output_type": "execute_result"
    }
   ],
   "source": [
    "# Daily (Diário):\n",
    "avg_returns_d = acao['log_return'].mean()\n",
    "# este valor só tem utilidade para calcular o anual, não merecendo atenção isoladamente.\n",
    "avg_returns_d"
   ]
  },
  {
   "cell_type": "code",
   "execution_count": 17,
   "metadata": {},
   "outputs": [
    {
     "data": {
      "text/plain": [
       "0.07474808632086842"
      ]
     },
     "execution_count": 17,
     "metadata": {},
     "output_type": "execute_result"
    }
   ],
   "source": [
    "# Annual (Anual):\n",
    "avg_returns_a = acao['log_return'].mean() * 251\n",
    "# 251 representa um número aproximado de dias úteis no ano (em SP)\n",
    "avg_returns_a"
   ]
  },
  {
   "cell_type": "code",
   "execution_count": 18,
   "metadata": {},
   "outputs": [
    {
     "name": "stdout",
     "output_type": "stream",
     "text": [
      "7.475 %\n"
     ]
    }
   ],
   "source": [
    "# conversão para percentual:\n",
    "print(str(round(avg_returns_a, 5) * 100) + ' %')\n",
    "# multiplica por 100, convert para string, e acrescenta o sinal percentual ao final."
   ]
  },
  {
   "cell_type": "markdown",
   "metadata": {},
   "source": [
    "___________________\n",
    "\n",
    "## 2.3\n",
    "\n",
    "### Comparação ante o Índice da Bolsa:"
   ]
  },
  {
   "cell_type": "code",
   "execution_count": 21,
   "metadata": {},
   "outputs": [
    {
     "name": "stdout",
     "output_type": "stream",
     "text": [
      "[*********************100%***********************]  1 of 1 completed\n",
      "[*********************100%***********************]  1 of 1 completed\n"
     ]
    }
   ],
   "source": [
    "ativos = ['PETR4.SA', '^BVSP']\n",
    "\n",
    "dados = pd.DataFrame()\n",
    "\n",
    "for ativo in ativos:\n",
    "    dados[ativo] = wb.get_data_yahoo(ativo, start=\"2011-1-1\")['Adj Close']"
   ]
  },
  {
   "cell_type": "code",
   "execution_count": 22,
   "metadata": {},
   "outputs": [
    {
     "data": {
      "text/html": [
       "<div>\n",
       "<style scoped>\n",
       "    .dataframe tbody tr th:only-of-type {\n",
       "        vertical-align: middle;\n",
       "    }\n",
       "\n",
       "    .dataframe tbody tr th {\n",
       "        vertical-align: top;\n",
       "    }\n",
       "\n",
       "    .dataframe thead th {\n",
       "        text-align: right;\n",
       "    }\n",
       "</style>\n",
       "<table border=\"1\" class=\"dataframe\">\n",
       "  <thead>\n",
       "    <tr style=\"text-align: right;\">\n",
       "      <th></th>\n",
       "      <th>PETR4.SA</th>\n",
       "      <th>^BVSP</th>\n",
       "    </tr>\n",
       "    <tr>\n",
       "      <th>Date</th>\n",
       "      <th></th>\n",
       "      <th></th>\n",
       "    </tr>\n",
       "  </thead>\n",
       "  <tbody>\n",
       "    <tr>\n",
       "      <th>2023-04-04</th>\n",
       "      <td>24.27</td>\n",
       "      <td>101869.00000</td>\n",
       "    </tr>\n",
       "    <tr>\n",
       "      <th>2023-04-05</th>\n",
       "      <td>24.35</td>\n",
       "      <td>100978.00000</td>\n",
       "    </tr>\n",
       "    <tr>\n",
       "      <th>2023-04-06</th>\n",
       "      <td>24.00</td>\n",
       "      <td>100822.00000</td>\n",
       "    </tr>\n",
       "    <tr>\n",
       "      <th>2023-04-10</th>\n",
       "      <td>24.51</td>\n",
       "      <td>101847.00000</td>\n",
       "    </tr>\n",
       "    <tr>\n",
       "      <th>2023-04-11</th>\n",
       "      <td>25.51</td>\n",
       "      <td>105584.28125</td>\n",
       "    </tr>\n",
       "  </tbody>\n",
       "</table>\n",
       "</div>"
      ],
      "text/plain": [
       "            PETR4.SA         ^BVSP\n",
       "Date                              \n",
       "2023-04-04     24.27  101869.00000\n",
       "2023-04-05     24.35  100978.00000\n",
       "2023-04-06     24.00  100822.00000\n",
       "2023-04-10     24.51  101847.00000\n",
       "2023-04-11     25.51  105584.28125"
      ]
     },
     "execution_count": 22,
     "metadata": {},
     "output_type": "execute_result"
    }
   ],
   "source": [
    "dados.tail()  # testagem de população do dataset"
   ]
  },
  {
   "cell_type": "markdown",
   "metadata": {},
   "source": [
    "### Primeiro, uma comparação básica entre a ação e o índice:"
   ]
  },
  {
   "cell_type": "code",
   "execution_count": 23,
   "metadata": {},
   "outputs": [
    {
     "data": {
      "image/png": "[encoded data removed]",
      "text/plain": [
       "<Figure size 1500x600 with 1 Axes>"
      ]
     },
     "metadata": {},
     "output_type": "display_data"
    }
   ],
   "source": [
    "(dados / dados.iloc[0] * 100).plot(figsize=(15,6))  # aplicação da fórmula\n",
    "plt.title(\"Preços: PETR4 vs IBOV\")\n",
    "plt.show()"
   ]
  },
  {
   "cell_type": "markdown",
   "metadata": {},
   "source": [
    "#### Obs.: O gráfico das duas é idêntico porque a PETR4 representa grande proporção na composição da carteira teórica do ibovespa."
   ]
  },
  {
   "cell_type": "markdown",
   "metadata": {},
   "source": [
    "### Agora vamos analisar o retorno anual médio"
   ]
  },
  {
   "cell_type": "code",
   "execution_count": 24,
   "metadata": {},
   "outputs": [
    {
     "data": {
      "text/html": [
       "<div>\n",
       "<style scoped>\n",
       "    .dataframe tbody tr th:only-of-type {\n",
       "        vertical-align: middle;\n",
       "    }\n",
       "\n",
       "    .dataframe tbody tr th {\n",
       "        vertical-align: top;\n",
       "    }\n",
       "\n",
       "    .dataframe thead th {\n",
       "        text-align: right;\n",
       "    }\n",
       "</style>\n",
       "<table border=\"1\" class=\"dataframe\">\n",
       "  <thead>\n",
       "    <tr style=\"text-align: right;\">\n",
       "      <th></th>\n",
       "      <th>PETR4.SA</th>\n",
       "      <th>^BVSP</th>\n",
       "    </tr>\n",
       "    <tr>\n",
       "      <th>Date</th>\n",
       "      <th></th>\n",
       "      <th></th>\n",
       "    </tr>\n",
       "  </thead>\n",
       "  <tbody>\n",
       "    <tr>\n",
       "      <th>2023-04-04</th>\n",
       "      <td>-0.008983</td>\n",
       "      <td>0.003576</td>\n",
       "    </tr>\n",
       "    <tr>\n",
       "      <th>2023-04-05</th>\n",
       "      <td>0.003296</td>\n",
       "      <td>-0.008747</td>\n",
       "    </tr>\n",
       "    <tr>\n",
       "      <th>2023-04-06</th>\n",
       "      <td>-0.014374</td>\n",
       "      <td>-0.001545</td>\n",
       "    </tr>\n",
       "    <tr>\n",
       "      <th>2023-04-10</th>\n",
       "      <td>0.021250</td>\n",
       "      <td>0.010166</td>\n",
       "    </tr>\n",
       "    <tr>\n",
       "      <th>2023-04-11</th>\n",
       "      <td>0.040800</td>\n",
       "      <td>0.036695</td>\n",
       "    </tr>\n",
       "  </tbody>\n",
       "</table>\n",
       "</div>"
      ],
      "text/plain": [
       "            PETR4.SA     ^BVSP\n",
       "Date                          \n",
       "2023-04-04 -0.008983  0.003576\n",
       "2023-04-05  0.003296 -0.008747\n",
       "2023-04-06 -0.014374 -0.001545\n",
       "2023-04-10  0.021250  0.010166\n",
       "2023-04-11  0.040800  0.036695"
      ]
     },
     "execution_count": 24,
     "metadata": {},
     "output_type": "execute_result"
    }
   ],
   "source": [
    "retorno_indice = (dados / dados.shift(1)) -1\n",
    "\n",
    "retorno_indice.tail()"
   ]
  },
  {
   "cell_type": "code",
   "execution_count": 25,
   "metadata": {},
   "outputs": [
    {
     "name": "stdout",
     "output_type": "stream",
     "text": [
      "PETR4.SA    18.643\n",
      "^BVSP        5.607\n",
      "dtype: float64 %\n"
     ]
    }
   ],
   "source": [
    "retorno_anual_indice = retorno_indice.mean() * 251\n",
    "\n",
    "print(str(round(retorno_anual_indice, 5) * 100) + \" %\") \n",
    "\n",
    "# dados positivos indicam um retorno positivo no período analisado"
   ]
  },
  {
   "cell_type": "code",
   "execution_count": 26,
   "metadata": {},
   "outputs": [
    {
     "data": {
      "image/png": "[encoded data removed]",
      "text/plain": [
       "<Figure size 640x480 with 1 Axes>"
      ]
     },
     "metadata": {},
     "output_type": "display_data"
    }
   ],
   "source": [
    "# plotagem de \"bar graph\":\n",
    "\n",
    "plt.style.use('ggplot')\n",
    "\n",
    "x = ['PETR4.SA', '^BVSP']\n",
    "x_pos = [i for i, _ in enumerate(x)]\n",
    "\n",
    "plt.bar(x_pos, retorno_anual_indice * 100, color = 'green')\n",
    "\n",
    "plt.xlabel(\"Ativo(s)\")\n",
    "plt.ylabel(\"Percentual de Retorno Anual (Méd. 10A)\")\n",
    "plt.title(\"Retorno do ativo ante o Índice da Bovespa\")\n",
    "\n",
    "plt.xticks(x_pos, x)\n",
    "plt.show()"
   ]
  },
  {
   "cell_type": "markdown",
   "metadata": {},
   "source": [
    "_____________________\n",
    "\n",
    "# 3\n",
    "\n",
    "## Calculando os Riscos:"
   ]
  },
  {
   "cell_type": "code",
   "execution_count": 28,
   "metadata": {},
   "outputs": [
    {
     "name": "stdout",
     "output_type": "stream",
     "text": [
      "[*********************100%***********************]  1 of 1 completed\n",
      "[*********************100%***********************]  1 of 1 completed\n"
     ]
    }
   ],
   "source": [
    "ativos = ['PETR4.SA', 'VALE3.SA']\n",
    "\n",
    "dados = pd.DataFrame()\n",
    "\n",
    "for ativo in ativos:\n",
    "    dados[ativo] = wb.get_data_yahoo(ativo, start=\"2011-1-1\")['Adj Close']"
   ]
  },
  {
   "cell_type": "code",
   "execution_count": 29,
   "metadata": {},
   "outputs": [
    {
     "data": {
      "text/html": [
       "<div>\n",
       "<style scoped>\n",
       "    .dataframe tbody tr th:only-of-type {\n",
       "        vertical-align: middle;\n",
       "    }\n",
       "\n",
       "    .dataframe tbody tr th {\n",
       "        vertical-align: top;\n",
       "    }\n",
       "\n",
       "    .dataframe thead th {\n",
       "        text-align: right;\n",
       "    }\n",
       "</style>\n",
       "<table border=\"1\" class=\"dataframe\">\n",
       "  <thead>\n",
       "    <tr style=\"text-align: right;\">\n",
       "      <th></th>\n",
       "      <th>PETR4.SA</th>\n",
       "      <th>VALE3.SA</th>\n",
       "    </tr>\n",
       "    <tr>\n",
       "      <th>Date</th>\n",
       "      <th></th>\n",
       "      <th></th>\n",
       "    </tr>\n",
       "  </thead>\n",
       "  <tbody>\n",
       "    <tr>\n",
       "      <th>2023-04-04</th>\n",
       "      <td>24.27</td>\n",
       "      <td>78.040001</td>\n",
       "    </tr>\n",
       "    <tr>\n",
       "      <th>2023-04-05</th>\n",
       "      <td>24.35</td>\n",
       "      <td>76.889999</td>\n",
       "    </tr>\n",
       "    <tr>\n",
       "      <th>2023-04-06</th>\n",
       "      <td>24.00</td>\n",
       "      <td>76.750000</td>\n",
       "    </tr>\n",
       "    <tr>\n",
       "      <th>2023-04-10</th>\n",
       "      <td>24.51</td>\n",
       "      <td>78.230003</td>\n",
       "    </tr>\n",
       "    <tr>\n",
       "      <th>2023-04-11</th>\n",
       "      <td>25.50</td>\n",
       "      <td>82.349998</td>\n",
       "    </tr>\n",
       "  </tbody>\n",
       "</table>\n",
       "</div>"
      ],
      "text/plain": [
       "            PETR4.SA   VALE3.SA\n",
       "Date                           \n",
       "2023-04-04     24.27  78.040001\n",
       "2023-04-05     24.35  76.889999\n",
       "2023-04-06     24.00  76.750000\n",
       "2023-04-10     24.51  78.230003\n",
       "2023-04-11     25.50  82.349998"
      ]
     },
     "execution_count": 29,
     "metadata": {},
     "output_type": "execute_result"
    }
   ],
   "source": [
    "dados.tail()"
   ]
  },
  {
   "cell_type": "code",
   "execution_count": 30,
   "metadata": {},
   "outputs": [],
   "source": [
    "sec_returns = np.log(dados / dados.shift(1))"
   ]
  },
  {
   "cell_type": "code",
   "execution_count": 31,
   "metadata": {},
   "outputs": [
    {
     "data": {
      "text/html": [
       "<div>\n",
       "<style scoped>\n",
       "    .dataframe tbody tr th:only-of-type {\n",
       "        vertical-align: middle;\n",
       "    }\n",
       "\n",
       "    .dataframe tbody tr th {\n",
       "        vertical-align: top;\n",
       "    }\n",
       "\n",
       "    .dataframe thead th {\n",
       "        text-align: right;\n",
       "    }\n",
       "</style>\n",
       "<table border=\"1\" class=\"dataframe\">\n",
       "  <thead>\n",
       "    <tr style=\"text-align: right;\">\n",
       "      <th></th>\n",
       "      <th>PETR4.SA</th>\n",
       "      <th>VALE3.SA</th>\n",
       "    </tr>\n",
       "    <tr>\n",
       "      <th>Date</th>\n",
       "      <th></th>\n",
       "      <th></th>\n",
       "    </tr>\n",
       "  </thead>\n",
       "  <tbody>\n",
       "    <tr>\n",
       "      <th>2011-01-03</th>\n",
       "      <td>NaN</td>\n",
       "      <td>NaN</td>\n",
       "    </tr>\n",
       "    <tr>\n",
       "      <th>2011-01-04</th>\n",
       "      <td>-0.003711</td>\n",
       "      <td>0.020501</td>\n",
       "    </tr>\n",
       "    <tr>\n",
       "      <th>2011-01-05</th>\n",
       "      <td>0.011826</td>\n",
       "      <td>0.017896</td>\n",
       "    </tr>\n",
       "    <tr>\n",
       "      <th>2011-01-06</th>\n",
       "      <td>-0.004050</td>\n",
       "      <td>-0.012921</td>\n",
       "    </tr>\n",
       "    <tr>\n",
       "      <th>2011-01-07</th>\n",
       "      <td>-0.014116</td>\n",
       "      <td>-0.007557</td>\n",
       "    </tr>\n",
       "    <tr>\n",
       "      <th>...</th>\n",
       "      <td>...</td>\n",
       "      <td>...</td>\n",
       "    </tr>\n",
       "    <tr>\n",
       "      <th>2023-04-04</th>\n",
       "      <td>-0.009024</td>\n",
       "      <td>-0.028673</td>\n",
       "    </tr>\n",
       "    <tr>\n",
       "      <th>2023-04-05</th>\n",
       "      <td>0.003291</td>\n",
       "      <td>-0.014846</td>\n",
       "    </tr>\n",
       "    <tr>\n",
       "      <th>2023-04-06</th>\n",
       "      <td>-0.014478</td>\n",
       "      <td>-0.001822</td>\n",
       "    </tr>\n",
       "    <tr>\n",
       "      <th>2023-04-10</th>\n",
       "      <td>0.021027</td>\n",
       "      <td>0.019100</td>\n",
       "    </tr>\n",
       "    <tr>\n",
       "      <th>2023-04-11</th>\n",
       "      <td>0.039597</td>\n",
       "      <td>0.051325</td>\n",
       "    </tr>\n",
       "  </tbody>\n",
       "</table>\n",
       "<p>3047 rows × 2 columns</p>\n",
       "</div>"
      ],
      "text/plain": [
       "            PETR4.SA  VALE3.SA\n",
       "Date                          \n",
       "2011-01-03       NaN       NaN\n",
       "2011-01-04 -0.003711  0.020501\n",
       "2011-01-05  0.011826  0.017896\n",
       "2011-01-06 -0.004050 -0.012921\n",
       "2011-01-07 -0.014116 -0.007557\n",
       "...              ...       ...\n",
       "2023-04-04 -0.009024 -0.028673\n",
       "2023-04-05  0.003291 -0.014846\n",
       "2023-04-06 -0.014478 -0.001822\n",
       "2023-04-10  0.021027  0.019100\n",
       "2023-04-11  0.039597  0.051325\n",
       "\n",
       "[3047 rows x 2 columns]"
      ]
     },
     "execution_count": 31,
     "metadata": {},
     "output_type": "execute_result"
    }
   ],
   "source": [
    "sec_returns"
   ]
  },
  {
   "cell_type": "code",
   "execution_count": 32,
   "metadata": {},
   "outputs": [],
   "source": [
    "pesos = np.array([0.5, 0.5])\n",
    "\n",
    "# portfolio com peso 50% em PETR4 e 50% em VALE3"
   ]
  },
  {
   "cell_type": "markdown",
   "metadata": {},
   "source": [
    "## 3.1\n",
    "\n",
    "### Variância do portfolio:"
   ]
  },
  {
   "cell_type": "code",
   "execution_count": 33,
   "metadata": {},
   "outputs": [
    {
     "name": "stdout",
     "output_type": "stream",
     "text": [
      "14.545 %\n"
     ]
    }
   ],
   "source": [
    "\n",
    "\n",
    "pfolio_var = np.dot(pesos.T, np.dot(sec_returns.cov() * 251, pesos))\n",
    "# A notação \".T\" é para transposição de pesos, \"np.dot\" para o produto da covariação anualizada da matriz e do vetor pesos.\n",
    "\n",
    "print(str(round(pfolio_var, 5) * 100) + \" %\") "
   ]
  },
  {
   "cell_type": "markdown",
   "metadata": {},
   "source": [
    "## 3.2\n",
    "\n",
    "### Volatilidade do portfolio:"
   ]
  },
  {
   "cell_type": "code",
   "execution_count": 34,
   "metadata": {},
   "outputs": [
    {
     "name": "stdout",
     "output_type": "stream",
     "text": [
      "38.138 %\n"
     ]
    }
   ],
   "source": [
    "pfolio_vol = (np.dot(pesos.T, np.dot(sec_returns.cov() * 251, pesos))) ** 0.5\n",
    "\n",
    "print(str(round(pfolio_vol, 5) * 100) + \" %\") "
   ]
  },
  {
   "cell_type": "markdown",
   "metadata": {},
   "source": [
    "# 4\n",
    "\n",
    "## Diversificações:"
   ]
  },
  {
   "cell_type": "markdown",
   "metadata": {},
   "source": [
    "____________\n",
    "\n",
    "## 4.1\n",
    "\n",
    "### Risco diversificável:"
   ]
  },
  {
   "cell_type": "markdown",
   "metadata": {},
   "source": [
    "        F O R M U L A\n",
    "\n",
    "#### R D  =  (variância de portfolio) - (variâncias pesadas anualizadas) "
   ]
  },
  {
   "cell_type": "code",
   "execution_count": 35,
   "metadata": {},
   "outputs": [
    {
     "data": {
      "text/plain": [
       "0.22506499470296729"
      ]
     },
     "execution_count": 35,
     "metadata": {},
     "output_type": "execute_result"
    }
   ],
   "source": [
    "# variância da ação\n",
    "acao_var_a = sec_returns['PETR4.SA'].var() * 251\n",
    "# se usarmos mais de um par de chaves, há o risco de não operar com floats (um erro)\n",
    "acao_var_a"
   ]
  },
  {
   "cell_type": "code",
   "execution_count": 36,
   "metadata": {},
   "outputs": [
    {
     "data": {
      "text/plain": [
       "0.17648150746097813"
      ]
     },
     "execution_count": 36,
     "metadata": {},
     "output_type": "execute_result"
    }
   ],
   "source": [
    "acao2_var_a = sec_returns['VALE3.SA'].var() * 251\n",
    "acao2_var_a"
   ]
  },
  {
   "cell_type": "code",
   "execution_count": 37,
   "metadata": {},
   "outputs": [
    {
     "name": "stdout",
     "output_type": "stream",
     "text": [
      "4.507 %\n"
     ]
    }
   ],
   "source": [
    "dr = pfolio_var - (pesos[0] ** 2 * acao_var_a) - (pesos[1] ** 2 * acao2_var_a)\n",
    "# esta é a fórmula do risco diversificável que escrevemos acima\n",
    "print(str(round(dr*100, 3)) + ' %')  # vamos formatar em pontos percentuais"
   ]
  },
  {
   "cell_type": "markdown",
   "metadata": {},
   "source": [
    "____________\n",
    "\n",
    "## 4.2\n",
    "\n",
    "### Risco não diversificável (Risco Sistemático):\n",
    "\n",
    "#### Independentemente se subtraímos o risco diversificável da variância ou se somamos as variâncias pesadas anualizadas, chegaremos no mesmo resultado!\n",
    "\n",
    "#### Isso significa que temos duas fórmulas para se obter o risco não diversificável.\n",
    "\n",
    "____________"
   ]
  },
  {
   "cell_type": "code",
   "execution_count": 38,
   "metadata": {},
   "outputs": [
    {
     "name": "stdout",
     "output_type": "stream",
     "text": [
      "10.039 %\n"
     ]
    }
   ],
   "source": [
    "# subtrair o risco assistemático (diversificável) da variância:\n",
    "n_dr_1 = pfolio_var - dr\n",
    "print(str(round(n_dr_1*100, 3)) + ' %')"
   ]
  },
  {
   "cell_type": "code",
   "execution_count": 39,
   "metadata": {},
   "outputs": [
    {
     "name": "stdout",
     "output_type": "stream",
     "text": [
      "10.039 %\n"
     ]
    }
   ],
   "source": [
    "# ou somar as variâncias pesadas anualizadas:\n",
    "n_dr_2 = (pesos[0] ** 2 * acao_var_a) + (pesos[1] ** 2 * acao2_var_a)\n",
    "print(str(round(n_dr_2*100, 3)) + ' %')"
   ]
  },
  {
   "cell_type": "code",
   "execution_count": 40,
   "metadata": {},
   "outputs": [
    {
     "data": {
      "text/plain": [
       "True"
      ]
     },
     "execution_count": 40,
     "metadata": {},
     "output_type": "execute_result"
    }
   ],
   "source": [
    "# Bool: n_dr_1 é igual a n_dr_2?\n",
    "n_dr_1 == n_dr_2"
   ]
  },
  {
   "cell_type": "markdown",
   "metadata": {},
   "source": [
    "_____________"
   ]
  },
  {
   "cell_type": "markdown",
   "metadata": {},
   "source": [
    "# 5\n",
    "\n",
    "## Correlações:"
   ]
  },
  {
   "cell_type": "code",
   "execution_count": 42,
   "metadata": {},
   "outputs": [
    {
     "name": "stdout",
     "output_type": "stream",
     "text": [
      "[*********************100%***********************]  1 of 1 completed\n",
      "[*********************100%***********************]  1 of 1 completed\n"
     ]
    }
   ],
   "source": [
    "ativos = ['PETR4.SA', 'VALE3.SA']\n",
    "\n",
    "dados = pd.DataFrame()\n",
    "\n",
    "for ativo in ativos:\n",
    "    dados[ativo] = wb.get_data_yahoo(ativo, start=\"2011-1-1\")['Adj Close']"
   ]
  },
  {
   "cell_type": "code",
   "execution_count": 43,
   "metadata": {},
   "outputs": [],
   "source": [
    "sec_returns = np.log(dados / dados.shift(1))"
   ]
  },
  {
   "cell_type": "code",
   "execution_count": 44,
   "metadata": {},
   "outputs": [
    {
     "data": {
      "text/html": [
       "<div>\n",
       "<style scoped>\n",
       "    .dataframe tbody tr th:only-of-type {\n",
       "        vertical-align: middle;\n",
       "    }\n",
       "\n",
       "    .dataframe tbody tr th {\n",
       "        vertical-align: top;\n",
       "    }\n",
       "\n",
       "    .dataframe thead th {\n",
       "        text-align: right;\n",
       "    }\n",
       "</style>\n",
       "<table border=\"1\" class=\"dataframe\">\n",
       "  <thead>\n",
       "    <tr style=\"text-align: right;\">\n",
       "      <th></th>\n",
       "      <th>PETR4.SA</th>\n",
       "      <th>VALE3.SA</th>\n",
       "    </tr>\n",
       "  </thead>\n",
       "  <tbody>\n",
       "    <tr>\n",
       "      <th>PETR4.SA</th>\n",
       "      <td>0.000897</td>\n",
       "      <td>0.000359</td>\n",
       "    </tr>\n",
       "    <tr>\n",
       "      <th>VALE3.SA</th>\n",
       "      <td>0.000359</td>\n",
       "      <td>0.000703</td>\n",
       "    </tr>\n",
       "  </tbody>\n",
       "</table>\n",
       "</div>"
      ],
      "text/plain": [
       "          PETR4.SA  VALE3.SA\n",
       "PETR4.SA  0.000897  0.000359\n",
       "VALE3.SA  0.000359  0.000703"
      ]
     },
     "execution_count": 44,
     "metadata": {},
     "output_type": "execute_result"
    }
   ],
   "source": [
    "cov_matrix = sec_returns.cov()  # cov() calcula covariâncias de pares entre colunas\n",
    "cov_matrix"
   ]
  },
  {
   "cell_type": "code",
   "execution_count": 45,
   "metadata": {},
   "outputs": [
    {
     "data": {
      "text/html": [
       "<div>\n",
       "<style scoped>\n",
       "    .dataframe tbody tr th:only-of-type {\n",
       "        vertical-align: middle;\n",
       "    }\n",
       "\n",
       "    .dataframe tbody tr th {\n",
       "        vertical-align: top;\n",
       "    }\n",
       "\n",
       "    .dataframe thead th {\n",
       "        text-align: right;\n",
       "    }\n",
       "</style>\n",
       "<table border=\"1\" class=\"dataframe\">\n",
       "  <thead>\n",
       "    <tr style=\"text-align: right;\">\n",
       "      <th></th>\n",
       "      <th>PETR4.SA</th>\n",
       "      <th>VALE3.SA</th>\n",
       "    </tr>\n",
       "  </thead>\n",
       "  <tbody>\n",
       "    <tr>\n",
       "      <th>PETR4.SA</th>\n",
       "      <td>0.225086</td>\n",
       "      <td>0.090148</td>\n",
       "    </tr>\n",
       "    <tr>\n",
       "      <th>VALE3.SA</th>\n",
       "      <td>0.090148</td>\n",
       "      <td>0.176489</td>\n",
       "    </tr>\n",
       "  </tbody>\n",
       "</table>\n",
       "</div>"
      ],
      "text/plain": [
       "          PETR4.SA  VALE3.SA\n",
       "PETR4.SA  0.225086  0.090148\n",
       "VALE3.SA  0.090148  0.176489"
      ]
     },
     "execution_count": 45,
     "metadata": {},
     "output_type": "execute_result"
    }
   ],
   "source": [
    "cov_matrix_a = sec_returns.cov() * 251  # anualizamos o cálculo\n",
    "cov_matrix_a"
   ]
  },
  {
   "cell_type": "code",
   "execution_count": 46,
   "metadata": {},
   "outputs": [
    {
     "data": {
      "text/html": [
       "<div>\n",
       "<style scoped>\n",
       "    .dataframe tbody tr th:only-of-type {\n",
       "        vertical-align: middle;\n",
       "    }\n",
       "\n",
       "    .dataframe tbody tr th {\n",
       "        vertical-align: top;\n",
       "    }\n",
       "\n",
       "    .dataframe thead th {\n",
       "        text-align: right;\n",
       "    }\n",
       "</style>\n",
       "<table border=\"1\" class=\"dataframe\">\n",
       "  <thead>\n",
       "    <tr style=\"text-align: right;\">\n",
       "      <th></th>\n",
       "      <th>PETR4.SA</th>\n",
       "      <th>VALE3.SA</th>\n",
       "    </tr>\n",
       "  </thead>\n",
       "  <tbody>\n",
       "    <tr>\n",
       "      <th>PETR4.SA</th>\n",
       "      <td>1.000000</td>\n",
       "      <td>0.452294</td>\n",
       "    </tr>\n",
       "    <tr>\n",
       "      <th>VALE3.SA</th>\n",
       "      <td>0.452294</td>\n",
       "      <td>1.000000</td>\n",
       "    </tr>\n",
       "  </tbody>\n",
       "</table>\n",
       "</div>"
      ],
      "text/plain": [
       "          PETR4.SA  VALE3.SA\n",
       "PETR4.SA  1.000000  0.452294\n",
       "VALE3.SA  0.452294  1.000000"
      ]
     },
     "execution_count": 46,
     "metadata": {},
     "output_type": "execute_result"
    }
   ],
   "source": [
    "corr_matrix = sec_returns.corr()  # corr() calcula correlações de pares entre colunas\n",
    "corr_matrix\n",
    "# Vemos um perfeito 1.0 de correlação pois dividimos ambas as variâncias das ações\n",
    "# pelos mesmos valores.\n",
    "# ESTA É UMA CORRELAÇÃO ENTRE RETORNOS E NÃO ENTRE PREÇOS!\n",
    "# NUNCA ANUALIZE A TABELA DE CORRELAÇÃO!"
   ]
  },
  {
   "cell_type": "markdown",
   "metadata": {},
   "source": [
    "___________"
   ]
  },
  {
   "cell_type": "markdown",
   "metadata": {},
   "source": [
    "# 6\n",
    "\n",
    "## Markowitz (Retorno x Volatilidade):"
   ]
  },
  {
   "cell_type": "code",
   "execution_count": 48,
   "metadata": {},
   "outputs": [
    {
     "name": "stdout",
     "output_type": "stream",
     "text": [
      "[*********************100%***********************]  1 of 1 completed\n",
      "[*********************100%***********************]  1 of 1 completed\n"
     ]
    }
   ],
   "source": [
    "ativos = ['PETR4.SA', '^BVSP']\n",
    "\n",
    "dados = pd.DataFrame()\n",
    "\n",
    "for ativo in ativos:\n",
    "    dados[ativo] = wb.get_data_yahoo(ativo, start=\"2011-1-1\")['Adj Close']"
   ]
  },
  {
   "cell_type": "code",
   "execution_count": 49,
   "metadata": {},
   "outputs": [
    {
     "data": {
      "text/plain": [
       "<Axes: xlabel='Date'>"
      ]
     },
     "execution_count": 49,
     "metadata": {},
     "output_type": "execute_result"
    },
    {
     "data": {
      "image/png": "[encoded data removed]",
      "text/plain": [
       "<Figure size 1000x500 with 1 Axes>"
      ]
     },
     "metadata": {},
     "output_type": "display_data"
    }
   ],
   "source": [
    "(dados / dados.iloc[0] * 100).plot(figsize=(10, 5))\n",
    "# iloc[0] seleciona a primeira linha do dataset, [-1] seleciona a última linha"
   ]
  },
  {
   "cell_type": "code",
   "execution_count": 50,
   "metadata": {},
   "outputs": [],
   "source": [
    "log_returns = np.log(dados / dados.shift(1))"
   ]
  },
  {
   "cell_type": "code",
   "execution_count": 51,
   "metadata": {},
   "outputs": [
    {
     "data": {
      "text/plain": [
       "PETR4.SA    0.074909\n",
       "^BVSP       0.025310\n",
       "dtype: float64"
      ]
     },
     "execution_count": 51,
     "metadata": {},
     "output_type": "execute_result"
    }
   ],
   "source": [
    "log_returns.mean() * 251  # retorno logarítimico anual"
   ]
  },
  {
   "cell_type": "code",
   "execution_count": 52,
   "metadata": {},
   "outputs": [],
   "source": [
    "num_ativos = len(ativos)\n",
    "# 'num_ativos' será o número de itens dentro da variável 'ativos'"
   ]
  },
  {
   "cell_type": "code",
   "execution_count": 53,
   "metadata": {},
   "outputs": [
    {
     "data": {
      "text/plain": [
       "array([0.73065437, 0.26934563])"
      ]
     },
     "execution_count": 53,
     "metadata": {},
     "output_type": "execute_result"
    }
   ],
   "source": [
    "pesos = np.random.random(num_ativos)\n",
    "pesos /= np.sum(pesos)\n",
    "# '/=' significa que pesos será fruto do resultado de 'pesos/sum(pesos)'\n",
    "pesos"
   ]
  },
  {
   "cell_type": "code",
   "execution_count": 54,
   "metadata": {},
   "outputs": [
    {
     "data": {
      "text/plain": [
       "1.0"
      ]
     },
     "execution_count": 54,
     "metadata": {},
     "output_type": "execute_result"
    }
   ],
   "source": [
    "pesos[0] + pesos[1]  # soma é igual a 1, o que significa que está correto"
   ]
  },
  {
   "cell_type": "code",
   "execution_count": 55,
   "metadata": {},
   "outputs": [
    {
     "data": {
      "text/plain": [
       "0.061549994972560196"
      ]
     },
     "execution_count": 55,
     "metadata": {},
     "output_type": "execute_result"
    }
   ],
   "source": [
    "# Retorno esperado do portfolio\n",
    "np.sum(pesos * log_returns.mean()) * 251\n",
    "# calculado pela soma das retornos logarítimicos médios anuais\n",
    "# np.sum permite a soma de valores em um objeto multidimensional"
   ]
  },
  {
   "cell_type": "code",
   "execution_count": 56,
   "metadata": {},
   "outputs": [
    {
     "data": {
      "text/plain": [
       "0.1593014214157446"
      ]
     },
     "execution_count": 56,
     "metadata": {},
     "output_type": "execute_result"
    }
   ],
   "source": [
    "# Variância esperada do portfolio\n",
    "np.dot(pesos.T, np.dot(log_returns.cov() * 251, pesos))"
   ]
  },
  {
   "cell_type": "code",
   "execution_count": 57,
   "metadata": {},
   "outputs": [
    {
     "data": {
      "text/plain": [
       "0.3991258215346942"
      ]
     },
     "execution_count": 57,
     "metadata": {},
     "output_type": "execute_result"
    }
   ],
   "source": [
    "# Volatilidade esperada do portfolio\n",
    "np.sqrt(np.dot(pesos.T, np.dot(log_returns.cov() * 251, pesos)))"
   ]
  },
  {
   "cell_type": "code",
   "execution_count": 58,
   "metadata": {},
   "outputs": [],
   "source": [
    "# cosiderando 1.000 combinações diferentes dos mesmos ativos\n",
    "\n",
    "pfolio_returns = []  # lista vazia a ser preenchida pelos retornos\n",
    "pfolio_volatilities = [] # lista vazia a ser preenchida pelas volatilidades\n",
    "\n",
    "for x in range (1000):  # loop para repetição de 1000x\n",
    "    pesos = np.random.random(num_ativos) # gerar aleatoriamente dois pesos para os ativos \n",
    "    pesos /= np.sum(pesos) # a soma destes pesos deve ser 1\n",
    "    pfolio_returns.append(np.sum(pesos * log_returns.mean()) * 251)  # acrescenta à lista pfolio_returns o resultado da aplicação da fórmula do retorno esperado do portfolio\n",
    "    pfolio_volatilities.append(np.sqrt(np.dot(pesos.T, np.dot(log_returns.cov() * 251, pesos))))  # acrescenta à lista pfolio_returns o resultado da aplicação da fórmula da volatilidade esperada do portfolio\n",
    "\n",
    "# Agora, vamos criar arrays numpy para nossos novos dados criados\n",
    "pfolio_returns = np.array(pfolio_returns)\n",
    "pfolio_volatilities = np.array(pfolio_volatilities)\n",
    "\n",
    "# Apresentar os datasets (warning: long list)\n",
    "# pfolio_returns, pfolio_volatilities"
   ]
  },
  {
   "cell_type": "markdown",
   "metadata": {},
   "source": [
    "### Vamos plotar um gráfico com nossos dados:"
   ]
  },
  {
   "cell_type": "code",
   "execution_count": 59,
   "metadata": {},
   "outputs": [],
   "source": [
    "# criamos um dataframe que contém duas colunas\n",
    "portfolios = pd.DataFrame({'Retorno': pfolio_returns, 'Volatilidade': pfolio_volatilities})"
   ]
  },
  {
   "cell_type": "code",
   "execution_count": 60,
   "metadata": {},
   "outputs": [
    {
     "data": {
      "image/png": "[encoded data removed]",
      "text/plain": [
       "<Figure size 1000x600 with 1 Axes>"
      ]
     },
     "metadata": {},
     "output_type": "display_data"
    }
   ],
   "source": [
    "portfolios.plot(x='Volatilidade', y='Retorno', kind='scatter', figsize=(10,6))\n",
    "plt.xlabel('Volatilidade Esperada')\n",
    "plt.ylabel('Retorno Esperado')\n",
    "# plt.axis([0, 0.2, 0, 0.2])  # valores de início e fim para X e depois Y\n",
    "plt.show()"
   ]
  },
  {
   "cell_type": "markdown",
   "metadata": {},
   "source": [
    "# 7\n",
    "\n",
    "## BETA e Sharpe:"
   ]
  },
  {
   "cell_type": "code",
   "execution_count": 61,
   "metadata": {},
   "outputs": [],
   "source": [
    "sec_returns = np.log(dados / dados.shift(1))"
   ]
  },
  {
   "cell_type": "code",
   "execution_count": 62,
   "metadata": {},
   "outputs": [
    {
     "data": {
      "text/html": [
       "<div>\n",
       "<style scoped>\n",
       "    .dataframe tbody tr th:only-of-type {\n",
       "        vertical-align: middle;\n",
       "    }\n",
       "\n",
       "    .dataframe tbody tr th {\n",
       "        vertical-align: top;\n",
       "    }\n",
       "\n",
       "    .dataframe thead th {\n",
       "        text-align: right;\n",
       "    }\n",
       "</style>\n",
       "<table border=\"1\" class=\"dataframe\">\n",
       "  <thead>\n",
       "    <tr style=\"text-align: right;\">\n",
       "      <th></th>\n",
       "      <th>PETR4.SA</th>\n",
       "      <th>^BVSP</th>\n",
       "    </tr>\n",
       "  </thead>\n",
       "  <tbody>\n",
       "    <tr>\n",
       "      <th>PETR4.SA</th>\n",
       "      <td>0.225078</td>\n",
       "      <td>0.088032</td>\n",
       "    </tr>\n",
       "    <tr>\n",
       "      <th>^BVSP</th>\n",
       "      <td>0.088032</td>\n",
       "      <td>0.061933</td>\n",
       "    </tr>\n",
       "  </tbody>\n",
       "</table>\n",
       "</div>"
      ],
      "text/plain": [
       "          PETR4.SA     ^BVSP\n",
       "PETR4.SA  0.225078  0.088032\n",
       "^BVSP     0.088032  0.061933"
      ]
     },
     "execution_count": 62,
     "metadata": {},
     "output_type": "execute_result"
    }
   ],
   "source": [
    "cov = sec_returns.cov() * 251  # covariância do ativo com o mercado\n",
    "cov"
   ]
  },
  {
   "cell_type": "code",
   "execution_count": 63,
   "metadata": {},
   "outputs": [
    {
     "data": {
      "text/plain": [
       "0.08803218163939351"
      ]
     },
     "execution_count": 63,
     "metadata": {},
     "output_type": "execute_result"
    }
   ],
   "source": [
    "cov_mercado = cov.iloc[0,1]  # covariância entre ação e mercado (via iloc)\n",
    "cov_mercado"
   ]
  },
  {
   "cell_type": "code",
   "execution_count": 64,
   "metadata": {},
   "outputs": [
    {
     "data": {
      "text/plain": [
       "0.06193257817328235"
      ]
     },
     "execution_count": 64,
     "metadata": {},
     "output_type": "execute_result"
    }
   ],
   "source": [
    "# denominador para a fórmula de beta:\n",
    "mercado_var = sec_returns['^BVSP'].var() * 251\n",
    "mercado_var"
   ]
  },
  {
   "cell_type": "markdown",
   "metadata": {},
   "source": [
    "# 7.1\n",
    "\n",
    "## Beta\n",
    "\n",
    "     f o r m u l a\n",
    "\n",
    "beta = cov(stock, market) / variance of market\n",
    "\n",
    "Obs.: usually measured with data from the past five years"
   ]
  },
  {
   "cell_type": "code",
   "execution_count": 65,
   "metadata": {},
   "outputs": [
    {
     "data": {
      "text/html": [
       "<div>\n",
       "<style scoped>\n",
       "    .dataframe tbody tr th:only-of-type {\n",
       "        vertical-align: middle;\n",
       "    }\n",
       "\n",
       "    .dataframe tbody tr th {\n",
       "        vertical-align: top;\n",
       "    }\n",
       "\n",
       "    .dataframe thead th {\n",
       "        text-align: right;\n",
       "    }\n",
       "</style>\n",
       "<table border=\"1\" class=\"dataframe\">\n",
       "  <thead>\n",
       "    <tr style=\"text-align: right;\">\n",
       "      <th></th>\n",
       "      <th>PETR4.SA</th>\n",
       "      <th>^BVSP</th>\n",
       "    </tr>\n",
       "    <tr>\n",
       "      <th>Date</th>\n",
       "      <th></th>\n",
       "      <th></th>\n",
       "    </tr>\n",
       "  </thead>\n",
       "  <tbody>\n",
       "    <tr>\n",
       "      <th>2023-04-04</th>\n",
       "      <td>24.270000</td>\n",
       "      <td>101869.000000</td>\n",
       "    </tr>\n",
       "    <tr>\n",
       "      <th>2023-04-05</th>\n",
       "      <td>24.350000</td>\n",
       "      <td>100978.000000</td>\n",
       "    </tr>\n",
       "    <tr>\n",
       "      <th>2023-04-06</th>\n",
       "      <td>24.000000</td>\n",
       "      <td>100822.000000</td>\n",
       "    </tr>\n",
       "    <tr>\n",
       "      <th>2023-04-10</th>\n",
       "      <td>24.510000</td>\n",
       "      <td>101847.000000</td>\n",
       "    </tr>\n",
       "    <tr>\n",
       "      <th>2023-04-11</th>\n",
       "      <td>25.549999</td>\n",
       "      <td>105680.992188</td>\n",
       "    </tr>\n",
       "  </tbody>\n",
       "</table>\n",
       "</div>"
      ],
      "text/plain": [
       "             PETR4.SA          ^BVSP\n",
       "Date                                \n",
       "2023-04-04  24.270000  101869.000000\n",
       "2023-04-05  24.350000  100978.000000\n",
       "2023-04-06  24.000000  100822.000000\n",
       "2023-04-10  24.510000  101847.000000\n",
       "2023-04-11  25.549999  105680.992188"
      ]
     },
     "execution_count": 65,
     "metadata": {},
     "output_type": "execute_result"
    }
   ],
   "source": [
    "dados.tail()"
   ]
  },
  {
   "cell_type": "code",
   "execution_count": 66,
   "metadata": {},
   "outputs": [
    {
     "data": {
      "text/plain": [
       "1.4214196184936234"
      ]
     },
     "execution_count": 66,
     "metadata": {},
     "output_type": "execute_result"
    }
   ],
   "source": [
    "# quociente da divisão obtida\n",
    "PETR_beta = cov_mercado / mercado_var\n",
    "PETR_beta"
   ]
  },
  {
   "cell_type": "markdown",
   "metadata": {},
   "source": [
    "### BETA < 1 significa que o ativo é defensivo e tem menos chances de sofrer volatilidade\n",
    "____________________"
   ]
  },
  {
   "cell_type": "markdown",
   "metadata": {},
   "source": [
    "# 7.2\n",
    "\n",
    "## Sharpe\n",
    "\n",
    "     f o r m u l a\n",
    "\n",
    "Sharpe = ('retorno esperado do ativo' - 'retorno esperado de ativo livre de risco') / 'desvio padrão do ativo'\n",
    "\n",
    "Ex. de \"Ativo Livre de Risco\": Brazil 10yr Bond Yield\n",
    "\n",
    "\"Quanto mais alto o Sharpe, melhor\""
   ]
  },
  {
   "cell_type": "code",
   "execution_count": 67,
   "metadata": {},
   "outputs": [
    {
     "data": {
      "text/plain": [
       "7.583212942774043"
      ]
     },
     "execution_count": 67,
     "metadata": {},
     "output_type": "execute_result"
    }
   ],
   "source": [
    "# retorno esperado de PETR = Brasil 10yr Yield + beta + risco de mercado\n",
    "re_PETR = 7.37 + PETR_beta * 0.15\n",
    "re_PETR"
   ]
  },
  {
   "cell_type": "code",
   "execution_count": 68,
   "metadata": {},
   "outputs": [
    {
     "data": {
      "text/plain": [
       "15.941890982753247"
      ]
     },
     "execution_count": 68,
     "metadata": {},
     "output_type": "execute_result"
    }
   ],
   "source": [
    "Sharpe = (re_PETR - 0.02) / (sec_returns['PETR4.SA'].std() * 251 ** 0.5)\n",
    "Sharpe"
   ]
  },
  {
   "cell_type": "code",
   "execution_count": 69,
   "metadata": {},
   "outputs": [
    {
     "name": "stdout",
     "output_type": "stream",
     "text": [
      "1594.189 %\n"
     ]
    }
   ],
   "source": [
    "print(str(round(Sharpe, 5) * 100) + ' %')  # percentualizando"
   ]
  },
  {
   "cell_type": "markdown",
   "metadata": {},
   "source": [
    "_______________\n",
    "\n",
    "# 8\n",
    "\n",
    "## Precificação de Opções via Black and Scholes:"
   ]
  },
  {
   "cell_type": "code",
   "execution_count": null,
   "metadata": {},
   "outputs": [],
   "source": []
  },
  {
   "cell_type": "markdown",
   "metadata": {},
   "source": [
    "     f o r m u l a\n",
    "\n",
    "## C = S * N(d1) - K*(e**-rt) * N(d2)\n",
    "\n",
    "where:\n",
    "\n",
    "S = preço do ativo\n",
    "\n",
    "N = Cumulative Distribution Function\n",
    "\n",
    "K = preço do strike\n",
    "\n",
    "e = exponencial\n",
    "\n",
    "r = retorno do tesouro direto\n",
    "\n",
    "stdev = desvio padrão\n",
    "\n",
    "T = horizonte de tempo (anos)\n",
    "\n",
    "d1 e d2 = ver abaixo"
   ]
  },
  {
   "cell_type": "markdown",
   "metadata": {},
   "source": [
    "     f o r m u l a  para d1 e d2\n",
    "\n",
    "d1 = (np.log(S / K) + (r + stdev ** 2 / 2) * T  /  stdev * np.sqrt(t))\n",
    "\n",
    "d2 = (np.log(S / K) + (r - stdev ** 2 / 2) * T  /  stdev * np.sqrt(t))\n",
    "\n",
    "\n",
    "onde:\n",
    "\n",
    "S = preço do ativo\n",
    "\n",
    "K = preço do strike\n",
    "\n",
    "r = Brazil 10yr Bond Yield\n",
    "\n",
    "stdev = desvio padrão\n",
    "\n",
    "T = horizonte de tempo (anos)"
   ]
  },
  {
   "cell_type": "code",
   "execution_count": 70,
   "metadata": {},
   "outputs": [],
   "source": [
    "def d1(S, K, r, stdev, T):\n",
    "    return (np.log(S / K) + (r + stdev ** 2 / 2) * T  /  stdev * np.sqrt(T))\n",
    "\n",
    "def d2(S, K, r, stdev, T):\n",
    "    return (np.log(S / K) + (r - stdev ** 2 / 2) * T  /  stdev * np.sqrt(T))"
   ]
  },
  {
   "cell_type": "code",
   "execution_count": 71,
   "metadata": {},
   "outputs": [
    {
     "data": {
      "text/plain": [
       "0.5"
      ]
     },
     "execution_count": 71,
     "metadata": {},
     "output_type": "execute_result"
    }
   ],
   "source": [
    "norm.cdf(0)\n",
    "# cumulative distribution function: mostra como os dados se acumulam ao longo do tempo"
   ]
  },
  {
   "cell_type": "code",
   "execution_count": 72,
   "metadata": {},
   "outputs": [
    {
     "data": {
      "text/plain": [
       "0.5987063256829237"
      ]
     },
     "execution_count": 72,
     "metadata": {},
     "output_type": "execute_result"
    }
   ],
   "source": [
    "norm.cdf(0.25)"
   ]
  },
  {
   "cell_type": "code",
   "execution_count": 73,
   "metadata": {},
   "outputs": [
    {
     "data": {
      "text/plain": [
       "0.7733726476231317"
      ]
     },
     "execution_count": 73,
     "metadata": {},
     "output_type": "execute_result"
    }
   ],
   "source": [
    "norm.cdf(0.75)"
   ]
  },
  {
   "cell_type": "code",
   "execution_count": 74,
   "metadata": {},
   "outputs": [
    {
     "data": {
      "text/plain": [
       "1.0"
      ]
     },
     "execution_count": 74,
     "metadata": {},
     "output_type": "execute_result"
    }
   ],
   "source": [
    "norm.cdf(9)"
   ]
  },
  {
   "cell_type": "code",
   "execution_count": 75,
   "metadata": {},
   "outputs": [],
   "source": [
    "# BSF \"Black-Scholes Formula\"\n",
    "def BSF(S, K, r, stdev, T):\n",
    "    return (S * norm.cdf(d1(S, K, r, stdev, T))) - (K * np.exp(-r * T) * norm.cdf(d2(S, K, r, stdev, T)))"
   ]
  },
  {
   "cell_type": "code",
   "execution_count": 77,
   "metadata": {},
   "outputs": [
    {
     "name": "stdout",
     "output_type": "stream",
     "text": [
      "[*********************100%***********************]  1 of 1 completed\n"
     ]
    }
   ],
   "source": [
    "ticker = 'PETR4.SA'\n",
    "data = pd.DataFrame()\n",
    "data[ticker] = wb.get_data_yahoo('PETR4.SA', start=\"2018-1-1\", end=\"2023-04-11\")['Adj Close']"
   ]
  },
  {
   "cell_type": "code",
   "execution_count": 78,
   "metadata": {},
   "outputs": [
    {
     "data": {
      "text/html": [
       "<div>\n",
       "<style scoped>\n",
       "    .dataframe tbody tr th:only-of-type {\n",
       "        vertical-align: middle;\n",
       "    }\n",
       "\n",
       "    .dataframe tbody tr th {\n",
       "        vertical-align: top;\n",
       "    }\n",
       "\n",
       "    .dataframe thead th {\n",
       "        text-align: right;\n",
       "    }\n",
       "</style>\n",
       "<table border=\"1\" class=\"dataframe\">\n",
       "  <thead>\n",
       "    <tr style=\"text-align: right;\">\n",
       "      <th></th>\n",
       "      <th>PETR4.SA</th>\n",
       "    </tr>\n",
       "    <tr>\n",
       "      <th>Date</th>\n",
       "      <th></th>\n",
       "    </tr>\n",
       "  </thead>\n",
       "  <tbody>\n",
       "    <tr>\n",
       "      <th>2023-04-03</th>\n",
       "      <td>24.49</td>\n",
       "    </tr>\n",
       "    <tr>\n",
       "      <th>2023-04-04</th>\n",
       "      <td>24.27</td>\n",
       "    </tr>\n",
       "    <tr>\n",
       "      <th>2023-04-05</th>\n",
       "      <td>24.35</td>\n",
       "    </tr>\n",
       "    <tr>\n",
       "      <th>2023-04-06</th>\n",
       "      <td>24.00</td>\n",
       "    </tr>\n",
       "    <tr>\n",
       "      <th>2023-04-10</th>\n",
       "      <td>24.51</td>\n",
       "    </tr>\n",
       "  </tbody>\n",
       "</table>\n",
       "</div>"
      ],
      "text/plain": [
       "            PETR4.SA\n",
       "Date                \n",
       "2023-04-03     24.49\n",
       "2023-04-04     24.27\n",
       "2023-04-05     24.35\n",
       "2023-04-06     24.00\n",
       "2023-04-10     24.51"
      ]
     },
     "execution_count": 78,
     "metadata": {},
     "output_type": "execute_result"
    }
   ],
   "source": [
    "data.tail()"
   ]
  },
  {
   "cell_type": "code",
   "execution_count": 79,
   "metadata": {},
   "outputs": [
    {
     "data": {
      "text/plain": [
       "PETR4.SA    24.51\n",
       "Name: 2023-04-10 00:00:00, dtype: float64"
      ]
     },
     "execution_count": 79,
     "metadata": {},
     "output_type": "execute_result"
    }
   ],
   "source": [
    "S = data.iloc[-1]  # '-1' no operador de index para apresentar o preço atual do ativo\n",
    "S"
   ]
  },
  {
   "cell_type": "code",
   "execution_count": 80,
   "metadata": {},
   "outputs": [],
   "source": [
    "log_returns = np.log(1 + data.pct_change())"
   ]
  },
  {
   "cell_type": "code",
   "execution_count": 81,
   "metadata": {},
   "outputs": [
    {
     "data": {
      "text/plain": [
       "PETR4.SA    0.489392\n",
       "dtype: float64"
      ]
     },
     "execution_count": 81,
     "metadata": {},
     "output_type": "execute_result"
    }
   ],
   "source": [
    "stdev = log_returns.std() * 250 ** 0.5\n",
    "stdev"
   ]
  },
  {
   "cell_type": "code",
   "execution_count": 82,
   "metadata": {},
   "outputs": [],
   "source": [
    "r = 7.37  # retorno de ativo livre de risco (Brasil 10yr Yield)\n",
    "K = 30.0  # preço do strike (R$ 30.00)\n",
    "T = 0.068493  # horizonte de tempo em fração de ano (1/12 = 0.08)"
   ]
  },
  {
   "cell_type": "code",
   "execution_count": 83,
   "metadata": {},
   "outputs": [
    {
     "data": {
      "text/plain": [
       "PETR4.SA    0.072218\n",
       "dtype: float64"
      ]
     },
     "execution_count": 83,
     "metadata": {},
     "output_type": "execute_result"
    }
   ],
   "source": [
    "d1(S, K, r, stdev, T)"
   ]
  },
  {
   "cell_type": "code",
   "execution_count": 84,
   "metadata": {},
   "outputs": [
    {
     "data": {
      "text/plain": [
       "PETR4.SA    0.063445\n",
       "dtype: float64"
      ]
     },
     "execution_count": 84,
     "metadata": {},
     "output_type": "execute_result"
    }
   ],
   "source": [
    "d2(S, K, r, stdev, T)"
   ]
  },
  {
   "cell_type": "code",
   "execution_count": 85,
   "metadata": {},
   "outputs": [
    {
     "data": {
      "text/plain": [
       "PETR4.SA    3.448037\n",
       "Name: 2023-04-10 00:00:00, dtype: float64"
      ]
     },
     "execution_count": 85,
     "metadata": {},
     "output_type": "execute_result"
    }
   ],
   "source": [
    "BSF(S, K, r, stdev, T)"
   ]
  },
  {
   "cell_type": "code",
   "execution_count": null,
   "metadata": {},
   "outputs": [],
   "source": []
  }
 ],
 "metadata": {
  "kernelspec": {
   "display_name": "Python 3",
   "language": "python",
   "name": "python3"
  },
  "language_info": {
   "codemirror_mode": {
    "name": "ipython",
    "version": 3
   },
   "file_extension": ".py",
   "mimetype": "text/x-python",
   "name": "python",
   "nbconvert_exporter": "python",
   "pygments_lexer": "ipython3",
   "version": "3.10.9"
  },
  "orig_nbformat": 2
 },
 "nbformat": 4,
 "nbformat_minor": 2
}
